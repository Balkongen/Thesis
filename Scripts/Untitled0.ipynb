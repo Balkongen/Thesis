{
  "cells": [
    {
      "cell_type": "markdown",
      "metadata": {
        "id": "_vXQbdmigWYD"
      },
      "source": [
        "**Set** **up** **simulation** **environment**"
      ]
    },
    {
      "cell_type": "markdown",
      "metadata": {
        "id": "DW0Yc8qagk9C"
      },
      "source": [
        "\n",
        "\n",
        "*   Number of nodes [30, 40, ..., 100]\n",
        "*   Energy levels at start 1 (sink has infinite)\n",
        "*  2-dimensioal grid of size 25 x 25 with random populated nodes \n",
        "*  define edges???"
      ]
    },
    {
      "cell_type": "code",
      "execution_count": 1,
      "metadata": {
        "colab": {
          "base_uri": "https://localhost:8080/"
        },
        "id": "goDGp7VIRlYN",
        "outputId": "c941c8ca-f2c9-4abc-c442-dcfa3a68f81c"
      },
      "outputs": [
        {
          "name": "stdout",
          "output_type": "stream",
          "text": [
            "[[1, 1, 1, 1], [1, 1, 1, 1], [1, 1, 1, 1], [1, 1, 1, 1]]\n"
          ]
        }
      ],
      "source": [
        "import random\n",
        "\n",
        "ENERGY = 1\n",
        "COLUMNS = 4\n",
        "ROWS = 4\n",
        "network = [[1 for x in range(ROWS)] for y in range(COLUMNS)]\n",
        "\n",
        "print(network)"
      ]
    },
    {
      "cell_type": "code",
      "execution_count": 2,
      "metadata": {
        "colab": {
          "base_uri": "https://localhost:8080/"
        },
        "id": "tSYoUlLLEImm",
        "outputId": "29e96552-2cee-41bb-97de-0361de2cdbe4"
      },
      "outputs": [
        {
          "name": "stdout",
          "output_type": "stream",
          "text": [
            "True\n"
          ]
        }
      ],
      "source": [
        "x = 0.00000000000000001\n",
        "y = 1e-17\n",
        "print(x == y)"
      ]
    },
    {
      "cell_type": "markdown",
      "metadata": {
        "id": "1Vfa3V-wqLr2"
      },
      "source": [
        "**Define functions**"
      ]
    },
    {
      "cell_type": "markdown",
      "metadata": {
        "id": "3YvBJpQDqZGR"
      },
      "source": [
        "*  Calculate energy consumption (eq 3, 4)\n",
        "*  Compute fuzzy lifetime membership value (eq 6)\n",
        "*  Compute fuzzy short delay membership (eq 7)\n",
        "*  Compute multiobjective membership (eq 10)\n",
        "*  Compute weight (eq 11)"
      ]
    }
  ],
  "metadata": {
    "colab": {
      "provenance": []
    },
    "kernelspec": {
      "display_name": "Python 3",
      "name": "python3"
    },
    "language_info": {
      "codemirror_mode": {
        "name": "ipython",
        "version": 3
      },
      "file_extension": ".py",
      "mimetype": "text/x-python",
      "name": "python",
      "nbconvert_exporter": "python",
      "pygments_lexer": "ipython3",
      "version": "3.10.5"
    }
  },
  "nbformat": 4,
  "nbformat_minor": 0
}
